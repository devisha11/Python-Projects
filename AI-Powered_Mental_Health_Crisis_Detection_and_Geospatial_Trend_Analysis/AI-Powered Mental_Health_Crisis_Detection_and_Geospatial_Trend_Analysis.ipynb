{
 "cells": [
  {
   "cell_type": "markdown",
   "metadata": {},
   "source": [
    "<h1> HumanAI : Sentiment Analysis Twitter </h1>"
   ]
  },
  {
   "cell_type": "code",
   "execution_count": 1,
   "metadata": {},
   "outputs": [
    {
     "name": "stdout",
     "output_type": "stream",
     "text": [
      "Collecting tweepy\n",
      "  Downloading tweepy-4.15.0-py3-none-any.whl.metadata (4.1 kB)\n",
      "Requirement already satisfied: pandas in c:\\users\\devis\\miniconda3\\lib\\site-packages (2.2.3)\n",
      "Requirement already satisfied: nltk in c:\\users\\devis\\miniconda3\\lib\\site-packages (3.9.1)\n",
      "Collecting emoji\n",
      "  Downloading emoji-2.14.1-py3-none-any.whl.metadata (5.7 kB)\n",
      "Collecting oauthlib<4,>=3.2.0 (from tweepy)\n",
      "  Downloading oauthlib-3.2.2-py3-none-any.whl.metadata (7.5 kB)\n",
      "Requirement already satisfied: requests<3,>=2.27.0 in c:\\users\\devis\\miniconda3\\lib\\site-packages (from tweepy) (2.32.3)\n",
      "Collecting requests-oauthlib<3,>=1.2.0 (from tweepy)\n",
      "  Downloading requests_oauthlib-2.0.0-py2.py3-none-any.whl.metadata (11 kB)\n",
      "Requirement already satisfied: numpy>=1.26.0 in c:\\users\\devis\\miniconda3\\lib\\site-packages (from pandas) (2.0.2)\n",
      "Requirement already satisfied: python-dateutil>=2.8.2 in c:\\users\\devis\\miniconda3\\lib\\site-packages (from pandas) (2.8.2)\n",
      "Requirement already satisfied: pytz>=2020.1 in c:\\users\\devis\\miniconda3\\lib\\site-packages (from pandas) (2024.1)\n",
      "Requirement already satisfied: tzdata>=2022.7 in c:\\users\\devis\\miniconda3\\lib\\site-packages (from pandas) (2024.2)\n",
      "Requirement already satisfied: click in c:\\users\\devis\\miniconda3\\lib\\site-packages (from nltk) (8.1.7)\n",
      "Requirement already satisfied: joblib in c:\\users\\devis\\miniconda3\\lib\\site-packages (from nltk) (1.4.2)\n",
      "Requirement already satisfied: regex>=2021.8.3 in c:\\users\\devis\\miniconda3\\lib\\site-packages (from nltk) (2024.11.6)\n",
      "Requirement already satisfied: tqdm in c:\\users\\devis\\miniconda3\\lib\\site-packages (from nltk) (4.66.4)\n",
      "Requirement already satisfied: six>=1.5 in c:\\users\\devis\\appdata\\roaming\\python\\python312\\site-packages (from python-dateutil>=2.8.2->pandas) (1.17.0)\n",
      "Requirement already satisfied: charset-normalizer<4,>=2 in c:\\users\\devis\\miniconda3\\lib\\site-packages (from requests<3,>=2.27.0->tweepy) (3.3.2)\n",
      "Requirement already satisfied: idna<4,>=2.5 in c:\\users\\devis\\miniconda3\\lib\\site-packages (from requests<3,>=2.27.0->tweepy) (3.7)\n",
      "Requirement already satisfied: urllib3<3,>=1.21.1 in c:\\users\\devis\\miniconda3\\lib\\site-packages (from requests<3,>=2.27.0->tweepy) (2.2.2)\n",
      "Requirement already satisfied: certifi>=2017.4.17 in c:\\users\\devis\\miniconda3\\lib\\site-packages (from requests<3,>=2.27.0->tweepy) (2024.12.14)\n",
      "Requirement already satisfied: colorama in c:\\users\\devis\\appdata\\roaming\\python\\python312\\site-packages (from click->nltk) (0.4.6)\n",
      "Downloading tweepy-4.15.0-py3-none-any.whl (99 kB)\n",
      "Downloading emoji-2.14.1-py3-none-any.whl (590 kB)\n",
      "   ---------------------------------------- 0.0/590.6 kB ? eta -:--:--\n",
      "   ---------------------------------------- 0.0/590.6 kB ? eta -:--:--\n",
      "   ----------------------------------- ---- 524.3/590.6 kB 2.1 MB/s eta 0:00:01\n",
      "   ---------------------------------------- 590.6/590.6 kB 1.9 MB/s eta 0:00:00\n",
      "Downloading oauthlib-3.2.2-py3-none-any.whl (151 kB)\n",
      "Downloading requests_oauthlib-2.0.0-py2.py3-none-any.whl (24 kB)\n",
      "Installing collected packages: oauthlib, emoji, requests-oauthlib, tweepy\n",
      "Successfully installed emoji-2.14.1 oauthlib-3.2.2 requests-oauthlib-2.0.0 tweepy-4.15.0\n",
      "Note: you may need to restart the kernel to use updated packages.\n"
     ]
    }
   ],
   "source": [
    "pip install tweepy pandas nltk emoji"
   ]
  },
  {
   "cell_type": "markdown",
   "metadata": {},
   "source": [
    "<h3> Task 1: Social Media Data Extraction & Preprocessing (API Handling & Text Cleaning) </h3>"
   ]
  },
  {
   "cell_type": "code",
   "execution_count": 5,
   "metadata": {},
   "outputs": [
    {
     "name": "stderr",
     "output_type": "stream",
     "text": [
      "[nltk_data] Downloading package stopwords to\n",
      "[nltk_data]     C:\\Users\\devis\\AppData\\Roaming\\nltk_data...\n",
      "[nltk_data]   Package stopwords is already up-to-date!\n"
     ]
    }
   ],
   "source": [
    "import tweepy\n",
    "import pandas as pd\n",
    "import re\n",
    "import nltk\n",
    "import emoji\n",
    "from nltk.corpus import stopwords\n",
    "from datetime import datetime, timedelta\n",
    "\n",
    "# Download stopwords\n",
    "nltk.download('stopwords')\n",
    "stop_words = set(stopwords.words('english'))\n",
    "\n",
    "# Twitter API credentials\n",
    "bearer_token=\"your_twitter_api_bearer_token\"\n",
    "\n",
    "# Initialize client\n",
    "client = tweepy.Client(bearer_token=bearer_token, wait_on_rate_limit=True)\n",
    "\n",
    "# Keywords related to mental health crises\n",
    "keywords = [\"depressed\", \"suicidal\", \"overwhelmed\", \"mental breakdown\", \"can't cope\", \n",
    "            \"hopeless\", \"addiction help\", \"relapse\", \"panic attack\", \"I give up\", \n",
    "            \"worthless\", \"anxiety\", \"substance abuse\", \"need help\", \"feeling lost\"]"
   ]
  },
  {
   "cell_type": "code",
   "execution_count": 11,
   "metadata": {},
   "outputs": [
    {
     "name": "stderr",
     "output_type": "stream",
     "text": [
      "C:\\Users\\devis\\AppData\\Local\\Temp\\ipykernel_31288\\1979958979.py:5: DeprecationWarning: datetime.datetime.utcnow() is deprecated and scheduled for removal in a future version. Use timezone-aware objects to represent datetimes in UTC: datetime.datetime.now(datetime.UTC).\n",
      "  end_time = datetime.utcnow()\n"
     ]
    },
    {
     "name": "stdout",
     "output_type": "stream",
     "text": [
      "❌ Rate limit hit. Please wait 15 minutes before trying again.\n",
      "✅ Twitter data extracted and cleaned!\n"
     ]
    }
   ],
   "source": [
    "# Build query string\n",
    "query = \"(\" + \" OR \".join([f'\"{kw}\"' for kw in keywords]) + \") lang:en -is:retweet\"\n",
    "\n",
    "# Set date range (last 7 days allowed in free access)\n",
    "end_time = datetime.utcnow()\n",
    "start_time = end_time - timedelta(days=7)\n",
    "\n",
    "# Fetch tweets\n",
    "tweets = []\n",
    "count = 0\n",
    "client = tweepy.Client(bearer_token=bearer_token, wait_on_rate_limit=False)\n",
    "\n",
    "\n",
    "try:    \n",
    "    for tweet in tweepy.Paginator(client.search_recent_tweets,\n",
    "                                  query=query,\n",
    "                                  tweet_fields=[\"id\", \"text\", \"created_at\", \"public_metrics\", \"geo\"],\n",
    "                                  expansions=[\"geo.place_id\"],\n",
    "                                  place_fields=[\"full_name\", \"country\", \"geo\", \"name\"],\n",
    "                                  max_results=10).flatten(limit=10):  # Adjust limit as needed\n",
    "        count += 1\n",
    "        if count % 50 == 0:\n",
    "            print(f\"{count} tweets fetched so far\")\n",
    "        content = tweet.text.lower()\n",
    "        cleaned = re.sub(r\"http\\S+|www\\S+|[^a-zA-Z\\s]\", \"\", content)\n",
    "        cleaned = emoji.replace_emoji(cleaned, replace='')\n",
    "        cleaned = ' '.join(word for word in cleaned.split() if word not in stop_words)\n",
    "\n",
    "        tweets.append({\n",
    "            \"tweet_id\": tweet.id,\n",
    "            \"timestamp\": tweet.created_at,\n",
    "            \"content\": content,\n",
    "            \"cleaned_content\": cleaned,\n",
    "            \"likes\": tweet.public_metrics[\"like_count\"],\n",
    "            \"retweets\": tweet.public_metrics[\"retweet_count\"],\n",
    "            \"replies\": tweet.public_metrics[\"reply_count\"],\n",
    "            \"quotes\": tweet.public_metrics[\"quote_count\"],\n",
    "            \"geo\": tweet.geo\n",
    "        })\n",
    "except tweepy.TooManyRequests:\n",
    "    print(\"❌ Rate limit hit. Please wait 15 minutes before trying again.\")\n",
    "\n",
    "# Save to CSV\n",
    "df = pd.DataFrame(tweets)\n",
    "df.to_csv(\"C:/Users/devis/OneDrive/Desktop/twitter_crisis_posts_cleaned2.csv\", index=False)\n",
    "print(\"✅ Twitter data extracted and cleaned!\")\n"
   ]
  },
  {
   "cell_type": "code",
   "execution_count": 7,
   "metadata": {},
   "outputs": [
    {
     "name": "stdout",
     "output_type": "stream",
     "text": [
      "[{'tweet_id': 1908433802893946895, 'timestamp': datetime.datetime(2025, 4, 5, 8, 17, 30, tzinfo=datetime.timezone.utc), 'content': \"@tucker_and_otis @trumpdailyposts you can't hide job losses with dumb, worthless employment in the government post-doge. sorry\", 'cleaned_content': 'tuckerandotis trumpdailyposts cant hide job losses dumb worthless employment government postdoge sorry', 'likes': 0, 'retweets': 0, 'replies': 0, 'quotes': 0, 'geo': None}, {'tweet_id': 1908433796556284369, 'timestamp': datetime.datetime(2025, 4, 5, 8, 17, 28, tzinfo=datetime.timezone.utc), 'content': '@aedcelectricity how long those it take to fix transformer at piwoyi na🥲😭\\ni am depressed already, 1 month with no light is no joke', 'cleaned_content': 'aedcelectricity long take fix transformer piwoyi na depressed already month light joke', 'likes': 0, 'retweets': 0, 'replies': 0, 'quotes': 0, 'geo': None}, {'tweet_id': 1908433777757499739, 'timestamp': datetime.datetime(2025, 4, 5, 8, 17, 24, tzinfo=datetime.timezone.utc), 'content': '@laurarbnsn @gandalfobiewan yes, australia also has a worthless free trade deal with the us.', 'cleaned_content': 'laurarbnsn gandalfobiewan yes australia also worthless free trade deal us', 'likes': 0, 'retweets': 0, 'replies': 0, 'quotes': 0, 'geo': None}, {'tweet_id': 1908433776142692660, 'timestamp': datetime.datetime(2025, 4, 5, 8, 17, 23, tzinfo=datetime.timezone.utc), 'content': 'if you ever feel overwhelmed by the mess of ideas, expectations, and moving pieces, don’t run from it. \\n\\nyou might just be looking at a project that needs a manager. and if you’re the type who eventually figures it out anyway? https://t.co/wxcofzmvpv', 'cleaned_content': 'ever feel overwhelmed mess ideas expectations moving pieces dont run might looking project needs manager youre type eventually figures anyway', 'likes': 0, 'retweets': 0, 'replies': 1, 'quotes': 0, 'geo': None}, {'tweet_id': 1908433775811584044, 'timestamp': datetime.datetime(2025, 4, 5, 8, 17, 23, tzinfo=datetime.timezone.utc), 'content': '@svesungchan huh…. i’ve never heard that song before… oh!! is ot a good movie?? yipeeee!! if u need help staying up, i have toothpicks to keep your eyes open :o', 'cleaned_content': 'svesungchan huh ive never heard song oh ot good movie yipeeee u need help staying toothpicks keep eyes open', 'likes': 0, 'retweets': 0, 'replies': 0, 'quotes': 0, 'geo': None}, {'tweet_id': 1908433758191038623, 'timestamp': datetime.datetime(2025, 4, 5, 8, 17, 19, tzinfo=datetime.timezone.utc), 'content': '@malachaymrabaym @elijahschaffer you worthless apes will be swinging in trees soon', 'cleaned_content': 'malachaymrabaym elijahschaffer worthless apes swinging trees soon', 'likes': 0, 'retweets': 0, 'replies': 0, 'quotes': 0, 'geo': None}, {'tweet_id': 1908433741887783202, 'timestamp': datetime.datetime(2025, 4, 5, 8, 17, 15, tzinfo=datetime.timezone.utc), 'content': 'i want to overdose. i have months of pills i could take that would guarantee my end. \\n\\ni just want all this to end. please.\\ni hate this. idk. im really considering it. genuinely, for the first time in a long while, i am genuinely suicidal. i am a danger to myself rn and idec.', 'cleaned_content': 'want overdose months pills could take would guarantee end want end please hate idk im really considering genuinely first time long genuinely suicidal danger rn idec', 'likes': 0, 'retweets': 0, 'replies': 0, 'quotes': 0, 'geo': None}, {'tweet_id': 1908433731267723574, 'timestamp': datetime.datetime(2025, 4, 5, 8, 17, 13, tzinfo=datetime.timezone.utc), 'content': \"@marinamedvin girl what did you expect? the dems are having a collective mental breakdown. doesn't make it justified but... don't hop into the animal enclosure at the zoo to see if you can pet a hyena. well, not pet so much as tease and goad. facts don't change their minds. we know this.\", 'cleaned_content': 'marinamedvin girl expect dems collective mental breakdown doesnt make justified dont hop animal enclosure zoo see pet hyena well pet much tease goad facts dont change minds know', 'likes': 0, 'retweets': 0, 'replies': 0, 'quotes': 0, 'geo': None}, {'tweet_id': 1908433720761004246, 'timestamp': datetime.datetime(2025, 4, 5, 8, 17, 10, tzinfo=datetime.timezone.utc), 'content': \"@ericzakariasson hello, i am gideon.\\n\\ni am not building anything, but i am working on outreach for my service business.\\n\\ni am looking for creators and saas owners who need help finding quality leads for their services.\\n\\nif interested, comment below &amp; let's connect.\", 'cleaned_content': 'ericzakariasson hello gideon building anything working outreach service business looking creators saas owners need help finding quality leads services interested comment amp lets connect', 'likes': 0, 'retweets': 0, 'replies': 0, 'quotes': 0, 'geo': None}, {'tweet_id': 1908433702255722922, 'timestamp': datetime.datetime(2025, 4, 5, 8, 17, 6, tzinfo=datetime.timezone.utc), 'content': '@emboiain @rattlecans then they are worthless', 'cleaned_content': 'emboiain rattlecans worthless', 'likes': 0, 'retweets': 0, 'replies': 0, 'quotes': 0, 'geo': None}]\n"
     ]
    }
   ],
   "source": [
    "print(tweets)"
   ]
  },
  {
   "cell_type": "markdown",
   "metadata": {},
   "source": [
    "<h3> Task 2: Sentiment & Crisis Risk Classification (NLP & Text Processing) </h3>"
   ]
  },
  {
   "cell_type": "code",
   "execution_count": 12,
   "metadata": {},
   "outputs": [
    {
     "name": "stdout",
     "output_type": "stream",
     "text": [
      "Collecting vaderSentiment\n",
      "  Downloading vaderSentiment-3.3.2-py2.py3-none-any.whl.metadata (572 bytes)\n",
      "Requirement already satisfied: requests in c:\\users\\devis\\miniconda3\\lib\\site-packages (from vaderSentiment) (2.32.3)\n",
      "Requirement already satisfied: charset-normalizer<4,>=2 in c:\\users\\devis\\miniconda3\\lib\\site-packages (from requests->vaderSentiment) (3.3.2)\n",
      "Requirement already satisfied: idna<4,>=2.5 in c:\\users\\devis\\miniconda3\\lib\\site-packages (from requests->vaderSentiment) (3.7)\n",
      "Requirement already satisfied: urllib3<3,>=1.21.1 in c:\\users\\devis\\miniconda3\\lib\\site-packages (from requests->vaderSentiment) (2.2.2)\n",
      "Requirement already satisfied: certifi>=2017.4.17 in c:\\users\\devis\\miniconda3\\lib\\site-packages (from requests->vaderSentiment) (2024.12.14)\n",
      "Downloading vaderSentiment-3.3.2-py2.py3-none-any.whl (125 kB)\n",
      "Installing collected packages: vaderSentiment\n",
      "Successfully installed vaderSentiment-3.3.2\n",
      "Note: you may need to restart the kernel to use updated packages.\n"
     ]
    }
   ],
   "source": [
    "pip install vaderSentiment"
   ]
  },
  {
   "cell_type": "code",
   "execution_count": 13,
   "metadata": {},
   "outputs": [],
   "source": [
    "from vaderSentiment.vaderSentiment import SentimentIntensityAnalyzer\n",
    "\n",
    "analyzer = SentimentIntensityAnalyzer()\n",
    "\n",
    "def classify_sentiment(text):\n",
    "    score = analyzer.polarity_scores(text)\n",
    "    compound = score['compound']\n",
    "    if compound >= 0.05:\n",
    "        return 'Positive'\n",
    "    elif compound <= -0.05:\n",
    "        return 'Negative'\n",
    "    else:\n",
    "        return 'Neutral'\n",
    "\n",
    "df['sentiment'] = df['cleaned_content'].apply(classify_sentiment)\n"
   ]
  },
  {
   "cell_type": "code",
   "execution_count": 14,
   "metadata": {},
   "outputs": [
    {
     "name": "stdout",
     "output_type": "stream",
     "text": [
      "Requirement already satisfied: scikit-learn in c:\\users\\devis\\miniconda3\\lib\\site-packages (1.5.2)\n",
      "Requirement already satisfied: numpy>=1.19.5 in c:\\users\\devis\\miniconda3\\lib\\site-packages (from scikit-learn) (2.0.2)\n",
      "Requirement already satisfied: scipy>=1.6.0 in c:\\users\\devis\\miniconda3\\lib\\site-packages (from scikit-learn) (1.14.1)\n",
      "Requirement already satisfied: joblib>=1.2.0 in c:\\users\\devis\\miniconda3\\lib\\site-packages (from scikit-learn) (1.4.2)\n",
      "Requirement already satisfied: threadpoolctl>=3.1.0 in c:\\users\\devis\\miniconda3\\lib\\site-packages (from scikit-learn) (3.5.0)\n",
      "Note: you may need to restart the kernel to use updated packages.\n"
     ]
    }
   ],
   "source": [
    "pip install scikit-learn"
   ]
  },
  {
   "cell_type": "code",
   "execution_count": 15,
   "metadata": {},
   "outputs": [],
   "source": [
    "high_risk = [\"don’t want to be here\", \"end my life\", \"kill myself\", \"can’t take it anymore\"]\n",
    "moderate_risk = [\"feel lost\", \"need help\", \"struggling\", \"anxious\", \"depressed\"]\n",
    "low_risk = [\"mental health\", \"self care\", \"therapy\", \"burnout\"]\n",
    "\n",
    "def classify_risk(text):\n",
    "    text = text.lower()\n",
    "    if any(phrase in text for phrase in high_risk):\n",
    "        return \"High-Risk\"\n",
    "    elif any(phrase in text for phrase in moderate_risk):\n",
    "        return \"Moderate Concern\"\n",
    "    elif any(phrase in text for phrase in low_risk):\n",
    "        return \"Low Concern\"\n",
    "    else:\n",
    "        return \"Uncategorized\"\n",
    "    \n",
    "df['risk_level'] = df['cleaned_content'].apply(classify_risk)"
   ]
  },
  {
   "cell_type": "code",
   "execution_count": 17,
   "metadata": {},
   "outputs": [
    {
     "data": {
      "image/png": "[encoded data removed]",
      "text/plain": [
       "<Figure size 1200x500 with 2 Axes>"
      ]
     },
     "metadata": {},
     "output_type": "display_data"
    }
   ],
   "source": [
    "import matplotlib.pyplot as plt\n",
    "import seaborn as sns\n",
    "\n",
    "plt.figure(figsize=(12, 5))\n",
    "\n",
    "plt.subplot(1, 2, 1)\n",
    "sns.countplot(data=df, x='sentiment')\n",
    "plt.title('Sentiment Distribution')\n",
    "\n",
    "plt.subplot(1, 2, 2)\n",
    "sns.countplot(data=df, x='risk_level')\n",
    "plt.title('Crisis Risk Level Distribution')\n",
    "\n",
    "plt.tight_layout()\n",
    "plt.savefig(\"C:/Users/devis/OneDrive/Desktop/sentiment_risk_distribution.png\")\n",
    "plt.show()"
   ]
  },
  {
   "cell_type": "markdown",
   "metadata": {},
   "source": [
    "<h3>Task 3: Crisis Geolocation & Mapping (Basic Geospatial Analysis & Visualization)</h3>"
   ]
  },
  {
   "cell_type": "code",
   "execution_count": 19,
   "metadata": {},
   "outputs": [
    {
     "name": "stdout",
     "output_type": "stream",
     "text": [
      "Requirement already satisfied: spacy in c:\\users\\devis\\miniconda3\\lib\\site-packages (3.8.2)\n",
      "Collecting geopy\n",
      "  Downloading geopy-2.4.1-py3-none-any.whl.metadata (6.8 kB)\n",
      "Collecting folium\n",
      "  Downloading folium-0.19.5-py2.py3-none-any.whl.metadata (4.1 kB)\n",
      "Requirement already satisfied: spacy-legacy<3.1.0,>=3.0.11 in c:\\users\\devis\\miniconda3\\lib\\site-packages (from spacy) (3.0.12)\n",
      "Requirement already satisfied: spacy-loggers<2.0.0,>=1.0.0 in c:\\users\\devis\\miniconda3\\lib\\site-packages (from spacy) (1.0.4)\n",
      "Requirement already satisfied: murmurhash<1.1.0,>=0.28.0 in c:\\users\\devis\\miniconda3\\lib\\site-packages (from spacy) (1.0.11)\n",
      "Requirement already satisfied: cymem<2.1.0,>=2.0.2 in c:\\users\\devis\\miniconda3\\lib\\site-packages (from spacy) (2.0.10)\n",
      "Requirement already satisfied: preshed<3.1.0,>=3.0.2 in c:\\users\\devis\\miniconda3\\lib\\site-packages (from spacy) (3.0.6)\n",
      "Requirement already satisfied: thinc<8.4.0,>=8.3.0 in c:\\users\\devis\\miniconda3\\lib\\site-packages (from spacy) (8.3.2)\n",
      "Requirement already satisfied: wasabi<1.2.0,>=0.9.1 in c:\\users\\devis\\miniconda3\\lib\\site-packages (from spacy) (0.9.1)\n",
      "Requirement already satisfied: srsly<3.0.0,>=2.4.3 in c:\\users\\devis\\miniconda3\\lib\\site-packages (from spacy) (2.4.8)\n",
      "Requirement already satisfied: catalogue<2.1.0,>=2.0.6 in c:\\users\\devis\\miniconda3\\lib\\site-packages (from spacy) (2.0.10)\n",
      "Requirement already satisfied: weasel<0.5.0,>=0.1.0 in c:\\users\\devis\\miniconda3\\lib\\site-packages (from spacy) (0.3.4)\n",
      "Requirement already satisfied: typer<1.0.0,>=0.3.0 in c:\\users\\devis\\miniconda3\\lib\\site-packages (from spacy) (0.15.1)\n",
      "Requirement already satisfied: tqdm<5.0.0,>=4.38.0 in c:\\users\\devis\\miniconda3\\lib\\site-packages (from spacy) (4.66.4)\n",
      "Requirement already satisfied: requests<3.0.0,>=2.13.0 in c:\\users\\devis\\miniconda3\\lib\\site-packages (from spacy) (2.32.3)\n",
      "Requirement already satisfied: pydantic!=1.8,!=1.8.1,<3.0.0,>=1.7.4 in c:\\users\\devis\\miniconda3\\lib\\site-packages (from spacy) (2.10.3)\n",
      "Requirement already satisfied: jinja2 in c:\\users\\devis\\miniconda3\\lib\\site-packages (from spacy) (3.1.4)\n",
      "Requirement already satisfied: setuptools in c:\\users\\devis\\miniconda3\\lib\\site-packages (from spacy) (72.1.0)\n",
      "Requirement already satisfied: packaging>=20.0 in c:\\users\\devis\\appdata\\roaming\\python\\python312\\site-packages (from spacy) (24.2)\n",
      "Requirement already satisfied: langcodes<4.0.0,>=3.2.0 in c:\\users\\devis\\miniconda3\\lib\\site-packages (from spacy) (3.3.0)\n",
      "Requirement already satisfied: numpy>=1.19.0 in c:\\users\\devis\\miniconda3\\lib\\site-packages (from spacy) (2.0.2)\n",
      "Collecting geographiclib<3,>=1.52 (from geopy)\n",
      "  Downloading geographiclib-2.0-py3-none-any.whl.metadata (1.4 kB)\n",
      "Collecting branca>=0.6.0 (from folium)\n",
      "  Downloading branca-0.8.1-py3-none-any.whl.metadata (1.5 kB)\n",
      "Collecting xyzservices (from folium)\n",
      "  Downloading xyzservices-2025.1.0-py3-none-any.whl.metadata (4.3 kB)\n",
      "Requirement already satisfied: MarkupSafe>=2.0 in c:\\users\\devis\\miniconda3\\lib\\site-packages (from jinja2->spacy) (2.1.3)\n",
      "Requirement already satisfied: annotated-types>=0.6.0 in c:\\users\\devis\\miniconda3\\lib\\site-packages (from pydantic!=1.8,!=1.8.1,<3.0.0,>=1.7.4->spacy) (0.6.0)\n",
      "Requirement already satisfied: pydantic-core==2.27.1 in c:\\users\\devis\\miniconda3\\lib\\site-packages (from pydantic!=1.8,!=1.8.1,<3.0.0,>=1.7.4->spacy) (2.27.1)\n",
      "Requirement already satisfied: typing-extensions>=4.12.2 in c:\\users\\devis\\miniconda3\\lib\\site-packages (from pydantic!=1.8,!=1.8.1,<3.0.0,>=1.7.4->spacy) (4.12.2)\n",
      "Requirement already satisfied: charset-normalizer<4,>=2 in c:\\users\\devis\\miniconda3\\lib\\site-packages (from requests<3.0.0,>=2.13.0->spacy) (3.3.2)\n",
      "Requirement already satisfied: idna<4,>=2.5 in c:\\users\\devis\\miniconda3\\lib\\site-packages (from requests<3.0.0,>=2.13.0->spacy) (3.7)\n",
      "Requirement already satisfied: urllib3<3,>=1.21.1 in c:\\users\\devis\\miniconda3\\lib\\site-packages (from requests<3.0.0,>=2.13.0->spacy) (2.2.2)\n",
      "Requirement already satisfied: certifi>=2017.4.17 in c:\\users\\devis\\miniconda3\\lib\\site-packages (from requests<3.0.0,>=2.13.0->spacy) (2024.12.14)\n",
      "Requirement already satisfied: blis<1.1.0,>=1.0.0 in c:\\users\\devis\\miniconda3\\lib\\site-packages (from thinc<8.4.0,>=8.3.0->spacy) (1.0.1)\n",
      "Requirement already satisfied: confection<1.0.0,>=0.0.1 in c:\\users\\devis\\miniconda3\\lib\\site-packages (from thinc<8.4.0,>=8.3.0->spacy) (0.1.4)\n",
      "Requirement already satisfied: colorama in c:\\users\\devis\\appdata\\roaming\\python\\python312\\site-packages (from tqdm<5.0.0,>=4.38.0->spacy) (0.4.6)\n",
      "Requirement already satisfied: click>=8.0.0 in c:\\users\\devis\\miniconda3\\lib\\site-packages (from typer<1.0.0,>=0.3.0->spacy) (8.1.7)\n",
      "Requirement already satisfied: shellingham>=1.3.0 in c:\\users\\devis\\miniconda3\\lib\\site-packages (from typer<1.0.0,>=0.3.0->spacy) (1.5.0)\n",
      "Requirement already satisfied: rich>=10.11.0 in c:\\users\\devis\\miniconda3\\lib\\site-packages (from typer<1.0.0,>=0.3.0->spacy) (13.9.4)\n",
      "Collecting typer<1.0.0,>=0.3.0 (from spacy)\n",
      "  Downloading typer-0.9.4-py3-none-any.whl.metadata (14 kB)\n",
      "Requirement already satisfied: cloudpathlib<0.17.0,>=0.7.0 in c:\\users\\devis\\miniconda3\\lib\\site-packages (from weasel<0.5.0,>=0.1.0->spacy) (0.16.0)\n",
      "Requirement already satisfied: smart-open<7.0.0,>=5.2.1 in c:\\users\\devis\\miniconda3\\lib\\site-packages (from weasel<0.5.0,>=0.1.0->spacy) (5.2.1)\n",
      "Requirement already satisfied: markdown-it-py>=2.2.0 in c:\\users\\devis\\miniconda3\\lib\\site-packages (from rich>=10.11.0->typer<1.0.0,>=0.3.0->spacy) (2.2.0)\n",
      "Requirement already satisfied: pygments<3.0.0,>=2.13.0 in c:\\users\\devis\\appdata\\roaming\\python\\python312\\site-packages (from rich>=10.11.0->typer<1.0.0,>=0.3.0->spacy) (2.19.1)\n",
      "Requirement already satisfied: mdurl~=0.1 in c:\\users\\devis\\miniconda3\\lib\\site-packages (from markdown-it-py>=2.2.0->rich>=10.11.0->typer<1.0.0,>=0.3.0->spacy) (0.1.0)\n",
      "Downloading geopy-2.4.1-py3-none-any.whl (125 kB)\n",
      "Downloading folium-0.19.5-py2.py3-none-any.whl (110 kB)\n",
      "Downloading branca-0.8.1-py3-none-any.whl (26 kB)\n",
      "Downloading geographiclib-2.0-py3-none-any.whl (40 kB)\n",
      "Downloading typer-0.9.4-py3-none-any.whl (45 kB)\n",
      "Downloading xyzservices-2025.1.0-py3-none-any.whl (88 kB)\n",
      "Installing collected packages: xyzservices, geographiclib, typer, geopy, branca, folium\n",
      "  Attempting uninstall: typer\n",
      "    Found existing installation: typer 0.15.1\n",
      "    Uninstalling typer-0.15.1:\n",
      "      Successfully uninstalled typer-0.15.1\n",
      "Successfully installed branca-0.8.1 folium-0.19.5 geographiclib-2.0 geopy-2.4.1 typer-0.9.0 xyzservices-2025.1.0\n",
      "Note: you may need to restart the kernel to use updated packages.\n"
     ]
    }
   ],
   "source": [
    "pip install spacy geopy folium"
   ]
  },
  {
   "cell_type": "code",
   "execution_count": 21,
   "metadata": {},
   "outputs": [
    {
     "name": "stdout",
     "output_type": "stream",
     "text": [
      "Collecting en-core-web-sm==3.8.0\n",
      "  Downloading https://github.com/explosion/spacy-models/releases/download/en_core_web_sm-3.8.0/en_core_web_sm-3.8.0-py3-none-any.whl (12.8 MB)\n",
      "     ---------------------------------------- 0.0/12.8 MB ? eta -:--:--\n",
      "      --------------------------------------- 0.3/12.8 MB ? eta -:--:--\n",
      "     - -------------------------------------- 0.5/12.8 MB 2.8 MB/s eta 0:00:05\n",
      "     -- ------------------------------------- 0.8/12.8 MB 1.2 MB/s eta 0:00:11\n",
      "     --- ------------------------------------ 1.0/12.8 MB 1.3 MB/s eta 0:00:10\n",
      "     ---- ----------------------------------- 1.3/12.8 MB 1.3 MB/s eta 0:00:09\n",
      "     ----- ---------------------------------- 1.8/12.8 MB 1.5 MB/s eta 0:00:08\n",
      "     ------ --------------------------------- 2.1/12.8 MB 1.5 MB/s eta 0:00:08\n",
      "     ------- -------------------------------- 2.4/12.8 MB 1.5 MB/s eta 0:00:07\n",
      "     -------- ------------------------------- 2.6/12.8 MB 1.5 MB/s eta 0:00:07\n",
      "     --------- ------------------------------ 2.9/12.8 MB 1.4 MB/s eta 0:00:07\n",
      "     --------- ------------------------------ 3.1/12.8 MB 1.4 MB/s eta 0:00:07\n",
      "     --------- ------------------------------ 3.1/12.8 MB 1.4 MB/s eta 0:00:07\n",
      "     ---------- ----------------------------- 3.4/12.8 MB 1.3 MB/s eta 0:00:08\n",
      "     ----------- ---------------------------- 3.7/12.8 MB 1.3 MB/s eta 0:00:08\n",
      "     ----------- ---------------------------- 3.7/12.8 MB 1.3 MB/s eta 0:00:08\n",
      "     ----------- ---------------------------- 3.7/12.8 MB 1.3 MB/s eta 0:00:08\n",
      "     ----------- ---------------------------- 3.7/12.8 MB 1.3 MB/s eta 0:00:08\n",
      "     ------------ --------------------------- 3.9/12.8 MB 1.0 MB/s eta 0:00:09\n",
      "     ------------ --------------------------- 3.9/12.8 MB 1.0 MB/s eta 0:00:09\n",
      "     ------------ -------------------------- 4.2/12.8 MB 983.0 kB/s eta 0:00:09\n",
      "     ------------ -------------------------- 4.2/12.8 MB 983.0 kB/s eta 0:00:09\n",
      "     ------------- ------------------------- 4.5/12.8 MB 948.5 kB/s eta 0:00:09\n",
      "     ------------- ------------------------- 4.5/12.8 MB 948.5 kB/s eta 0:00:09\n",
      "     ------------- ------------------------- 4.5/12.8 MB 948.5 kB/s eta 0:00:09\n",
      "     ------------- ------------------------- 4.5/12.8 MB 948.5 kB/s eta 0:00:09\n",
      "     ------------- ------------------------- 4.5/12.8 MB 948.5 kB/s eta 0:00:09\n",
      "     -------------- ------------------------ 4.7/12.8 MB 833.9 kB/s eta 0:00:10\n",
      "     -------------- ------------------------ 4.7/12.8 MB 833.9 kB/s eta 0:00:10\n",
      "     -------------- ------------------------ 4.7/12.8 MB 833.9 kB/s eta 0:00:10\n",
      "     -------------- ------------------------ 4.7/12.8 MB 833.9 kB/s eta 0:00:10\n",
      "     -------------- ------------------------ 4.7/12.8 MB 833.9 kB/s eta 0:00:10\n",
      "     -------------- ------------------------ 4.7/12.8 MB 833.9 kB/s eta 0:00:10\n",
      "     --------------- ----------------------- 5.0/12.8 MB 708.9 kB/s eta 0:00:12\n",
      "     --------------- ----------------------- 5.0/12.8 MB 708.9 kB/s eta 0:00:12\n",
      "     --------------- ----------------------- 5.0/12.8 MB 708.9 kB/s eta 0:00:12\n",
      "     --------------- ----------------------- 5.0/12.8 MB 708.9 kB/s eta 0:00:12\n",
      "     --------------- ----------------------- 5.0/12.8 MB 708.9 kB/s eta 0:00:12\n",
      "     --------------- ----------------------- 5.2/12.8 MB 650.6 kB/s eta 0:00:12\n",
      "     --------------- ----------------------- 5.2/12.8 MB 650.6 kB/s eta 0:00:12\n",
      "     ---------------- ---------------------- 5.5/12.8 MB 642.8 kB/s eta 0:00:12\n",
      "     ----------------- --------------------- 5.8/12.8 MB 657.3 kB/s eta 0:00:11\n",
      "     ----------------- --------------------- 5.8/12.8 MB 657.3 kB/s eta 0:00:11\n",
      "     ------------------ -------------------- 6.0/12.8 MB 662.7 kB/s eta 0:00:11\n",
      "     ------------------ -------------------- 6.0/12.8 MB 662.7 kB/s eta 0:00:11\n",
      "     ------------------ -------------------- 6.0/12.8 MB 662.7 kB/s eta 0:00:11\n",
      "     ------------------ -------------------- 6.0/12.8 MB 662.7 kB/s eta 0:00:11\n",
      "     ------------------- ------------------- 6.3/12.8 MB 630.5 kB/s eta 0:00:11\n",
      "     ------------------- ------------------- 6.6/12.8 MB 636.1 kB/s eta 0:00:10\n",
      "     ------------------- ------------------- 6.6/12.8 MB 636.1 kB/s eta 0:00:10\n",
      "     ------------------- ------------------- 6.6/12.8 MB 636.1 kB/s eta 0:00:10\n",
      "     -------------------- ------------------ 6.8/12.8 MB 628.8 kB/s eta 0:00:10\n",
      "     -------------------- ------------------ 6.8/12.8 MB 628.8 kB/s eta 0:00:10\n",
      "     -------------------- ------------------ 6.8/12.8 MB 628.8 kB/s eta 0:00:10\n",
      "     -------------------- ------------------ 6.8/12.8 MB 628.8 kB/s eta 0:00:10\n",
      "     -------------------- ------------------ 6.8/12.8 MB 628.8 kB/s eta 0:00:10\n",
      "     -------------------- ------------------ 6.8/12.8 MB 628.8 kB/s eta 0:00:10\n",
      "     --------------------- ----------------- 7.1/12.8 MB 585.5 kB/s eta 0:00:10\n",
      "     --------------------- ----------------- 7.1/12.8 MB 585.5 kB/s eta 0:00:10\n",
      "     ---------------------- ---------------- 7.3/12.8 MB 587.5 kB/s eta 0:00:10\n",
      "     ---------------------- ---------------- 7.3/12.8 MB 587.5 kB/s eta 0:00:10\n",
      "     ---------------------- ---------------- 7.3/12.8 MB 587.5 kB/s eta 0:00:10\n",
      "     ----------------------- --------------- 7.6/12.8 MB 577.1 kB/s eta 0:00:10\n",
      "     ----------------------- --------------- 7.6/12.8 MB 577.1 kB/s eta 0:00:10\n",
      "     ----------------------- --------------- 7.6/12.8 MB 577.1 kB/s eta 0:00:10\n",
      "     ----------------------- --------------- 7.9/12.8 MB 569.1 kB/s eta 0:00:09\n",
      "     ----------------------- --------------- 7.9/12.8 MB 569.1 kB/s eta 0:00:09\n",
      "     ------------------------ -------------- 8.1/12.8 MB 568.1 kB/s eta 0:00:09\n",
      "     ------------------------ -------------- 8.1/12.8 MB 568.1 kB/s eta 0:00:09\n",
      "     ------------------------ -------------- 8.1/12.8 MB 568.1 kB/s eta 0:00:09\n",
      "     ------------------------- ------------- 8.4/12.8 MB 560.4 kB/s eta 0:00:08\n",
      "     ------------------------- ------------- 8.4/12.8 MB 560.4 kB/s eta 0:00:08\n",
      "     ------------------------- ------------- 8.4/12.8 MB 560.4 kB/s eta 0:00:08\n",
      "     ------------------------- ------------- 8.4/12.8 MB 560.4 kB/s eta 0:00:08\n",
      "     ------------------------- ------------- 8.4/12.8 MB 560.4 kB/s eta 0:00:08\n",
      "     ------------------------- ------------- 8.4/12.8 MB 560.4 kB/s eta 0:00:08\n",
      "     ------------------------- ------------- 8.4/12.8 MB 560.4 kB/s eta 0:00:08\n",
      "     ------------------------- ------------- 8.4/12.8 MB 560.4 kB/s eta 0:00:08\n",
      "     ------------------------- ------------- 8.4/12.8 MB 560.4 kB/s eta 0:00:08\n",
      "     ------------------------- ------------- 8.4/12.8 MB 560.4 kB/s eta 0:00:08\n",
      "     ------------------------- ------------- 8.4/12.8 MB 560.4 kB/s eta 0:00:08\n",
      "     ------------------------- ------------- 8.4/12.8 MB 560.4 kB/s eta 0:00:08\n",
      "     -------------------------- ------------ 8.7/12.8 MB 494.3 kB/s eta 0:00:09\n",
      "     -------------------------- ------------ 8.7/12.8 MB 494.3 kB/s eta 0:00:09\n",
      "     -------------------------- ------------ 8.7/12.8 MB 494.3 kB/s eta 0:00:09\n",
      "     -------------------------- ------------ 8.7/12.8 MB 494.3 kB/s eta 0:00:09\n",
      "     -------------------------- ------------ 8.7/12.8 MB 494.3 kB/s eta 0:00:09\n",
      "     -------------------------- ------------ 8.7/12.8 MB 494.3 kB/s eta 0:00:09\n",
      "     -------------------------- ------------ 8.7/12.8 MB 494.3 kB/s eta 0:00:09\n",
      "     -------------------------- ------------ 8.7/12.8 MB 494.3 kB/s eta 0:00:09\n",
      "     -------------------------- ------------ 8.7/12.8 MB 494.3 kB/s eta 0:00:09\n",
      "     --------------------------- ----------- 8.9/12.8 MB 462.1 kB/s eta 0:00:09\n",
      "     --------------------------- ----------- 8.9/12.8 MB 462.1 kB/s eta 0:00:09\n",
      "     --------------------------- ----------- 8.9/12.8 MB 462.1 kB/s eta 0:00:09\n",
      "     --------------------------- ----------- 8.9/12.8 MB 462.1 kB/s eta 0:00:09\n",
      "     --------------------------- ----------- 8.9/12.8 MB 462.1 kB/s eta 0:00:09\n",
      "     --------------------------- ----------- 8.9/12.8 MB 462.1 kB/s eta 0:00:09\n",
      "     --------------------------- ----------- 8.9/12.8 MB 462.1 kB/s eta 0:00:09\n",
      "     --------------------------- ----------- 8.9/12.8 MB 462.1 kB/s eta 0:00:09\n",
      "     --------------------------- ----------- 8.9/12.8 MB 462.1 kB/s eta 0:00:09\n",
      "     --------------------------- ----------- 8.9/12.8 MB 462.1 kB/s eta 0:00:09\n",
      "     --------------------------- ----------- 8.9/12.8 MB 462.1 kB/s eta 0:00:09\n",
      "     --------------------------- ----------- 8.9/12.8 MB 462.1 kB/s eta 0:00:09\n",
      "     --------------------------- ----------- 8.9/12.8 MB 462.1 kB/s eta 0:00:09\n",
      "     --------------------------- ----------- 9.2/12.8 MB 414.9 kB/s eta 0:00:09\n",
      "     --------------------------- ----------- 9.2/12.8 MB 414.9 kB/s eta 0:00:09\n",
      "     --------------------------- ----------- 9.2/12.8 MB 414.9 kB/s eta 0:00:09\n",
      "     --------------------------- ----------- 9.2/12.8 MB 414.9 kB/s eta 0:00:09\n",
      "     ---------------------------- ---------- 9.4/12.8 MB 408.6 kB/s eta 0:00:09\n",
      "     ---------------------------- ---------- 9.4/12.8 MB 408.6 kB/s eta 0:00:09\n",
      "     ----------------------------- --------- 9.7/12.8 MB 413.1 kB/s eta 0:00:08\n",
      "     ----------------------------- --------- 9.7/12.8 MB 413.1 kB/s eta 0:00:08\n",
      "     ----------------------------- -------- 10.0/12.8 MB 418.0 kB/s eta 0:00:07\n",
      "     ----------------------------- -------- 10.0/12.8 MB 418.0 kB/s eta 0:00:07\n",
      "     ----------------------------- -------- 10.0/12.8 MB 418.0 kB/s eta 0:00:07\n",
      "     ----------------------------- -------- 10.0/12.8 MB 418.0 kB/s eta 0:00:07\n",
      "     ------------------------------ ------- 10.2/12.8 MB 412.7 kB/s eta 0:00:07\n",
      "     ------------------------------ ------- 10.2/12.8 MB 412.7 kB/s eta 0:00:07\n",
      "     ------------------------------- ------ 10.5/12.8 MB 416.5 kB/s eta 0:00:06\n",
      "     ------------------------------- ------ 10.5/12.8 MB 416.5 kB/s eta 0:00:06\n",
      "     ------------------------------- ------ 10.7/12.8 MB 421.0 kB/s eta 0:00:05\n",
      "     -------------------------------- ----- 11.0/12.8 MB 426.2 kB/s eta 0:00:05\n",
      "     -------------------------------- ----- 11.0/12.8 MB 426.2 kB/s eta 0:00:05\n",
      "     --------------------------------- ---- 11.3/12.8 MB 430.7 kB/s eta 0:00:04\n",
      "     --------------------------------- ---- 11.3/12.8 MB 430.7 kB/s eta 0:00:04\n",
      "     --------------------------------- ---- 11.3/12.8 MB 430.7 kB/s eta 0:00:04\n",
      "     --------------------------------- ---- 11.3/12.8 MB 430.7 kB/s eta 0:00:04\n",
      "     --------------------------------- ---- 11.3/12.8 MB 430.7 kB/s eta 0:00:04\n",
      "     --------------------------------- ---- 11.3/12.8 MB 430.7 kB/s eta 0:00:04\n",
      "     --------------------------------- ---- 11.3/12.8 MB 430.7 kB/s eta 0:00:04\n",
      "     --------------------------------- ---- 11.3/12.8 MB 430.7 kB/s eta 0:00:04\n",
      "     --------------------------------- ---- 11.3/12.8 MB 430.7 kB/s eta 0:00:04\n",
      "     --------------------------------- ---- 11.3/12.8 MB 430.7 kB/s eta 0:00:04\n",
      "     ---------------------------------- --- 11.5/12.8 MB 406.4 kB/s eta 0:00:04\n",
      "     ---------------------------------- --- 11.5/12.8 MB 406.4 kB/s eta 0:00:04\n",
      "     ---------------------------------- --- 11.5/12.8 MB 406.4 kB/s eta 0:00:04\n",
      "     ---------------------------------- --- 11.5/12.8 MB 406.4 kB/s eta 0:00:04\n",
      "     ---------------------------------- --- 11.5/12.8 MB 406.4 kB/s eta 0:00:04\n",
      "     ----------------------------------- -- 11.8/12.8 MB 402.1 kB/s eta 0:00:03\n",
      "     ----------------------------------- -- 11.8/12.8 MB 402.1 kB/s eta 0:00:03\n",
      "     ----------------------------------- -- 12.1/12.8 MB 403.9 kB/s eta 0:00:02\n",
      "     ----------------------------------- -- 12.1/12.8 MB 403.9 kB/s eta 0:00:02\n",
      "     ----------------------------------- -- 12.1/12.8 MB 403.9 kB/s eta 0:00:02\n",
      "     ----------------------------------- -- 12.1/12.8 MB 403.9 kB/s eta 0:00:02\n",
      "     ------------------------------------ - 12.3/12.8 MB 402.4 kB/s eta 0:00:02\n",
      "     ------------------------------------ - 12.3/12.8 MB 402.4 kB/s eta 0:00:02\n",
      "     -------------------------------------  12.6/12.8 MB 386.3 kB/s eta 0:00:01\n",
      "     -------------------------------------  12.6/12.8 MB 386.3 kB/s eta 0:00:01\n",
      "     -------------------------------------  12.6/12.8 MB 386.3 kB/s eta 0:00:01\n",
      "     -------------------------------------  12.6/12.8 MB 386.3 kB/s eta 0:00:01\n",
      "     -------------------------------------  12.6/12.8 MB 386.3 kB/s eta 0:00:01\n",
      "     -------------------------------------  12.6/12.8 MB 386.3 kB/s eta 0:00:01\n",
      "     -------------------------------------  12.6/12.8 MB 386.3 kB/s eta 0:00:01\n",
      "     -------------------------------------  12.6/12.8 MB 386.3 kB/s eta 0:00:01\n",
      "     -------------------------------------  12.6/12.8 MB 386.3 kB/s eta 0:00:01\n",
      "     -------------------------------------  12.6/12.8 MB 386.3 kB/s eta 0:00:01\n",
      "     -------------------------------------  12.6/12.8 MB 386.3 kB/s eta 0:00:01\n",
      "     -------------------------------------  12.6/12.8 MB 386.3 kB/s eta 0:00:01\n",
      "     -------------------------------------  12.6/12.8 MB 386.3 kB/s eta 0:00:01\n",
      "     -------------------------------------  12.6/12.8 MB 386.3 kB/s eta 0:00:01\n",
      "     -------------------------------------  12.6/12.8 MB 386.3 kB/s eta 0:00:01\n",
      "     -------------------------------------  12.6/12.8 MB 386.3 kB/s eta 0:00:01\n",
      "     -------------------------------------- 12.8/12.8 MB 288.6 kB/s eta 0:00:00\n",
      "✔ Download and installation successful\n",
      "You can now load the package via spacy.load('en_core_web_sm')\n"
     ]
    }
   ],
   "source": [
    "!python -m spacy download en_core_web_sm"
   ]
  },
  {
   "cell_type": "code",
   "execution_count": 34,
   "metadata": {},
   "outputs": [],
   "source": [
    "import spacy\n",
    "import pandas as pd\n",
    "\n",
    "# Load spaCy NER\n",
    "nlp = spacy.load(\"en_core_web_sm\")\n",
    "\n",
    "# Load your dataset\n",
    "df = pd.read_csv(\"C:/Users/devis/OneDrive/Desktop/twitter_crisis_posts_cleaned.csv\")\n",
    "\n",
    "# Step 1a: spaCy NER for location extraction\n",
    "def extract_location(text):\n",
    "    doc = nlp(str(text))\n",
    "    for ent in doc.ents:\n",
    "        if ent.label_ == \"GPE\":\n",
    "            return ent.text\n",
    "    return None\n",
    "\n",
    "df['location_text'] = df['content'].apply(extract_location)\n",
    "\n",
    "# Step 1b: Fallback using keyword dictionary\n",
    "place_keywords = {\n",
    "    \"austin\": \"Austin, TX\",\n",
    "    \"new york\": \"New York, NY\",\n",
    "    \"toronto\": \"Toronto, Canada\",\n",
    "    \"los angeles\": \"Los Angeles, CA\",\n",
    "    \"houston\": \"Houston, TX\",\n",
    "    \"chicago\": \"Chicago, IL\",\n",
    "    \"vancouver\": \"Vancouver, Canada\"\n",
    "    # Add more based on expected locations\n",
    "}\n",
    "\n",
    "def keyword_location(text):\n",
    "    text = str(text).lower()\n",
    "    for key in place_keywords:\n",
    "        if key in text:\n",
    "            return place_keywords[key]\n",
    "    return None\n",
    "\n",
    "df['location_text'] = df['location_text'].fillna(df['content'].apply(keyword_location))"
   ]
  },
  {
   "cell_type": "code",
   "execution_count": 35,
   "metadata": {},
   "outputs": [],
   "source": [
    "from geopy.geocoders import Nominatim\n",
    "import time\n",
    "\n",
    "geolocator = Nominatim(user_agent=\"gsoc_geolocator\")\n",
    "def geocode_location(place):\n",
    "    try:\n",
    "        location = geolocator.geocode(place)\n",
    "        if location:\n",
    "            return pd.Series([location.latitude, location.longitude])\n",
    "    except:\n",
    "        return pd.Series([None, None])\n",
    "    time.sleep(1)  # avoid hitting rate limit\n",
    "\n",
    "df[['latitude', 'longitude']] = df['location_text'].apply(geocode_location)"
   ]
  },
  {
   "cell_type": "code",
   "execution_count": 36,
   "metadata": {},
   "outputs": [],
   "source": [
    "import folium\n",
    "from folium.plugins import HeatMap\n",
    "\n",
    "# Filter rows with coordinates\n",
    "map_df = df.dropna(subset=['latitude', 'longitude'])\n",
    "\n",
    "# Initialize map\n",
    "m = folium.Map(location=[39.5, -98.35], zoom_start=4)  # Center of US\n",
    "\n",
    "# Add heatmap\n",
    "heat_data = [[row['latitude'], row['longitude']] for _, row in map_df.iterrows()]\n",
    "HeatMap(heat_data).add_to(m)\n",
    "\n",
    "# Save or display\n",
    "m.save(\"C:/Users/devis/OneDrive/Desktop/crisis_heatmap.html\")"
   ]
  },
  {
   "cell_type": "code",
   "execution_count": null,
   "metadata": {},
   "outputs": [],
   "source": [
    "top_locations = df['location_text'].value_counts().head(5)\n",
    "print(\"Top 5 Crisis Locations:\")\n",
    "print(top_locations)"
   ]
  }
 ],
 "metadata": {
  "kernelspec": {
   "display_name": "base",
   "language": "python",
   "name": "python3"
  },
  "language_info": {
   "codemirror_mode": {
    "name": "ipython",
    "version": 3
   },
   "file_extension": ".py",
   "mimetype": "text/x-python",
   "name": "python",
   "nbconvert_exporter": "python",
   "pygments_lexer": "ipython3",
   "version": "3.12.4"
  }
 },
 "nbformat": 4,
 "nbformat_minor": 2
}
